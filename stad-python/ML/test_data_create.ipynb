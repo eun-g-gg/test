{
 "cells": [
  {
   "cell_type": "code",
   "execution_count": 9,
   "metadata": {},
   "outputs": [
    {
     "name": "stdout",
     "output_type": "stream",
     "text": [
      "           id category                                              title\n",
      "41088   14643   아웃도어가구                             2인용 라탄 행잉체어 스윙  그네  의자\n",
      "624    383482    유아동잡화  올드솔 아기 신발  돌 유아 첫 걸음마 신발  아기운동화 120 130 140 밤비...\n",
      "26094  182915       공구                     계단 운반 끌차 상업용 가구 박스 물류  이동 접이식 \n",
      "32860   28962   카페트/러그                                 빨아쓰는 플라워 규조토  발매트 \n",
      "36770  325015      수산물                          당일조업 서해안 봄 암 꽃게  1kg 활 생물\n"
     ]
    }
   ],
   "source": [
    "import pandas as pd\n",
    "\n",
    "# JSON 파일 로드\n",
    "# df = pd.read_json('./train_data/product_category.json')  # lines=True는 파일이 line-delimited JSON인 경우 사용\n",
    "df = pd.read_json('./train_data/product_category_test.json')  # lines=True는 파일이 line-delimited JSON인 경우 사용\n",
    "\n",
    "\n",
    "# 데이터에서 무작위로 10% 선택\n",
    "sampled_df = df.sample(frac=0.1, random_state=42)  # random_state는 결과의 재현성을 위해 사용\n",
    "\n",
    "# 샘플링된 데이터 확인\n",
    "print(sampled_df.head())\n"
   ]
  },
  {
   "cell_type": "code",
   "execution_count": 10,
   "metadata": {},
   "outputs": [],
   "source": [
    "# 샘플링된 데이터를 새 JSON 파일로 저장\n",
    "# with open('./train_data/product_category_test.json', 'w', encoding='utf-8') as file:\n",
    "#     sampled_df.to_json(file, orient='records', force_ascii=False)\n",
    "\n",
    "with open('./train_data/product_category_valid.json', 'w', encoding='utf-8') as file:\n",
    "    sampled_df.to_json(file, orient='records', force_ascii=False)"
   ]
  },
  {
   "cell_type": "code",
   "execution_count": 8,
   "metadata": {},
   "outputs": [
    {
     "name": "stdout",
     "output_type": "stream",
     "text": [
      "Num GPUs Available:  0\n",
      "Please install GPU version of TF\n"
     ]
    }
   ],
   "source": [
    "import tensorflow as tf\n",
    "\n",
    "# 사용 가능한 GPU 리스트 출력\n",
    "print(\"Num GPUs Available: \", len(tf.config.experimental.list_physical_devices('GPU')))\n",
    "\n",
    "# GPU 사용 설정 확인\n",
    "if tf.test.gpu_device_name():\n",
    "    print('Default GPU Device: {}'.format(tf.test.gpu_device_name()))\n",
    "else:\n",
    "    print(\"Please install GPU version of TF\")\n"
   ]
  }
 ],
 "metadata": {
  "kernelspec": {
   "display_name": "Python 3",
   "language": "python",
   "name": "python3"
  },
  "language_info": {
   "codemirror_mode": {
    "name": "ipython",
    "version": 3
   },
   "file_extension": ".py",
   "mimetype": "text/x-python",
   "name": "python",
   "nbconvert_exporter": "python",
   "pygments_lexer": "ipython3",
   "version": "3.9.7"
  }
 },
 "nbformat": 4,
 "nbformat_minor": 2
}
